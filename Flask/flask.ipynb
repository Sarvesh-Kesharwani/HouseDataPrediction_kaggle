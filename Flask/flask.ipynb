{
 "cells": [
  {
   "cell_type": "code",
   "execution_count": 1,
   "metadata": {},
   "outputs": [],
   "source": [
    "# creating flask_app\n",
    "from flask import Flask,request\n",
    "app = Flask(__name__)"
   ]
  },
  {
   "cell_type": "code",
   "execution_count": 2,
   "metadata": {},
   "outputs": [],
   "source": [
    "# defining a routed_call\n",
    "@app.route('/hello_sk')\n",
    "def hello():\n",
    "    return \"Hello Sarvesh Kesharwani\""
   ]
  },
  {
   "cell_type": "code",
   "execution_count": 3,
   "metadata": {},
   "outputs": [],
   "source": [
    "# \n",
    "@app.route('/add', methods=['GET'])\n",
    "def add_GET1():\n",
    "    a = request.args.get('a')\n",
    "    b = request.args.get('b')\n",
    "    return str(int(a) + int(b))\n",
    "    "
   ]
  },
  {
   "cell_type": "code",
   "execution_count": null,
   "metadata": {},
   "outputs": [],
   "source": [
    "# \n",
    "@app.route('/predict',methods=['GET','POST'])\n",
    "def predict():\n",
    "    if request.method == 'GET':\n",
    "        return 'please send post request!'\n",
    "    elif request.method == 'POST':\n",
    "        input_paras = request.get_json()\n",
    "        \n",
    "        sepal_length = input_paras['sepal_length']\n",
    "        sepal_width = input_paras['sepal_width']\n",
    "        petal_length = input_paras['petal_length']\n",
    "        petal_width = input_paras['petal_width']\n",
    "        \n",
    "        import numpy as np\n",
    "        input = np.array([sepal_length, sepal_width, petal_length, petal_width])\n",
    "        "
   ]
  },
  {
   "cell_type": "code",
   "execution_count": 4,
   "metadata": {},
   "outputs": [
    {
     "name": "stdout",
     "output_type": "stream",
     "text": [
      " * Serving Flask app '__main__'\n",
      " * Debug mode: off\n"
     ]
    },
    {
     "name": "stderr",
     "output_type": "stream",
     "text": [
      "WARNING: This is a development server. Do not use it in a production deployment. Use a production WSGI server instead.\n",
      " * Running on http://127.0.0.1:5000\n",
      "Press CTRL+C to quit\n",
      "127.0.0.1 - - [26/Jan/2023 16:26:47] \"GET /hello_sk HTTP/1.1\" 200 -\n",
      "[2023-01-26 16:26:47,038] ERROR in app: Exception on /add [GET]\n",
      "Traceback (most recent call last):\n",
      "  File \"C:\\Users\\sarve\\AppData\\Local\\Packages\\PythonSoftwareFoundation.Python.3.10_qbz5n2kfra8p0\\LocalCache\\local-packages\\Python310\\site-packages\\flask\\app.py\", line 2525, in wsgi_app\n",
      "    response = self.full_dispatch_request()\n",
      "  File \"C:\\Users\\sarve\\AppData\\Local\\Packages\\PythonSoftwareFoundation.Python.3.10_qbz5n2kfra8p0\\LocalCache\\local-packages\\Python310\\site-packages\\flask\\app.py\", line 1822, in full_dispatch_request\n",
      "    rv = self.handle_user_exception(e)\n",
      "  File \"C:\\Users\\sarve\\AppData\\Local\\Packages\\PythonSoftwareFoundation.Python.3.10_qbz5n2kfra8p0\\LocalCache\\local-packages\\Python310\\site-packages\\flask\\app.py\", line 1820, in full_dispatch_request\n",
      "    rv = self.dispatch_request()\n",
      "  File \"C:\\Users\\sarve\\AppData\\Local\\Packages\\PythonSoftwareFoundation.Python.3.10_qbz5n2kfra8p0\\LocalCache\\local-packages\\Python310\\site-packages\\flask\\app.py\", line 1796, in dispatch_request\n",
      "    return self.ensure_sync(self.view_functions[rule.endpoint])(**view_args)\n",
      "  File \"C:\\Users\\sarve\\AppData\\Local\\Temp\\ipykernel_13464\\2149499102.py\", line 6, in add_GET1\n",
      "    return str(int(a) + int(b))\n",
      "TypeError: int() argument must be a string, a bytes-like object or a real number, not 'NoneType'\n",
      "127.0.0.1 - - [26/Jan/2023 16:26:47] \"GET /add HTTP/1.1\" 500 -\n",
      "[2023-01-26 16:26:48,925] ERROR in app: Exception on /add [GET]\n",
      "Traceback (most recent call last):\n",
      "  File \"C:\\Users\\sarve\\AppData\\Local\\Packages\\PythonSoftwareFoundation.Python.3.10_qbz5n2kfra8p0\\LocalCache\\local-packages\\Python310\\site-packages\\flask\\app.py\", line 2525, in wsgi_app\n",
      "    response = self.full_dispatch_request()\n",
      "  File \"C:\\Users\\sarve\\AppData\\Local\\Packages\\PythonSoftwareFoundation.Python.3.10_qbz5n2kfra8p0\\LocalCache\\local-packages\\Python310\\site-packages\\flask\\app.py\", line 1822, in full_dispatch_request\n",
      "    rv = self.handle_user_exception(e)\n",
      "  File \"C:\\Users\\sarve\\AppData\\Local\\Packages\\PythonSoftwareFoundation.Python.3.10_qbz5n2kfra8p0\\LocalCache\\local-packages\\Python310\\site-packages\\flask\\app.py\", line 1820, in full_dispatch_request\n",
      "    rv = self.dispatch_request()\n",
      "  File \"C:\\Users\\sarve\\AppData\\Local\\Packages\\PythonSoftwareFoundation.Python.3.10_qbz5n2kfra8p0\\LocalCache\\local-packages\\Python310\\site-packages\\flask\\app.py\", line 1796, in dispatch_request\n",
      "    return self.ensure_sync(self.view_functions[rule.endpoint])(**view_args)\n",
      "  File \"C:\\Users\\sarve\\AppData\\Local\\Temp\\ipykernel_13464\\2149499102.py\", line 6, in add_GET1\n",
      "    return str(int(a) + int(b))\n",
      "TypeError: int() argument must be a string, a bytes-like object or a real number, not 'NoneType'\n",
      "127.0.0.1 - - [26/Jan/2023 16:26:48] \"GET /add HTTP/1.1\" 500 -\n",
      "127.0.0.1 - - [26/Jan/2023 16:26:56] \"GET /hello_sk HTTP/1.1\" 200 -\n",
      "127.0.0.1 - - [26/Jan/2023 16:28:39] \"GET /add?a=1&b=4 HTTP/1.1\" 200 -\n"
     ]
    }
   ],
   "source": [
    "# running flask_app\n",
    "app.run()"
   ]
  }
 ],
 "metadata": {
  "kernelspec": {
   "display_name": "Python 3",
   "language": "python",
   "name": "python3"
  },
  "language_info": {
   "codemirror_mode": {
    "name": "ipython",
    "version": 3
   },
   "file_extension": ".py",
   "mimetype": "text/x-python",
   "name": "python",
   "nbconvert_exporter": "python",
   "pygments_lexer": "ipython3",
   "version": "3.10.9 (tags/v3.10.9:1dd9be6, Dec  6 2022, 20:01:21) [MSC v.1934 64 bit (AMD64)]"
  },
  "orig_nbformat": 4,
  "vscode": {
   "interpreter": {
    "hash": "f2e2420d2af6466ac46d65e7cae12e1763773716a5df9fb9629e3ec3fd0e9e0e"
   }
  }
 },
 "nbformat": 4,
 "nbformat_minor": 2
}

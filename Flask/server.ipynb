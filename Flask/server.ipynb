{
 "cells": [
  {
   "cell_type": "code",
   "execution_count": 1,
   "metadata": {},
   "outputs": [],
   "source": [
    "# creating flask_app\n",
    "from flask import Flask,request\n",
    "app = Flask(__name__)"
   ]
  },
  {
   "cell_type": "code",
   "execution_count": 2,
   "metadata": {},
   "outputs": [],
   "source": [
    "# defining a routed_call\n",
    "@app.route('/hello_sk')\n",
    "def hello():\n",
    "    return \"Hello Sarvesh Kesharwani\""
   ]
  },
  {
   "cell_type": "code",
   "execution_count": 3,
   "metadata": {},
   "outputs": [],
   "source": [
    "# \n",
    "@app.route('/add', methods=['GET'])\n",
    "def add_GET1():\n",
    "    a = request.args.get('a')\n",
    "    b = request.args.get('b')\n",
    "    return str(int(a) + int(b))\n",
    "    "
   ]
  },
  {
   "cell_type": "code",
   "execution_count": 4,
   "metadata": {},
   "outputs": [],
   "source": [
    "import pickle\n",
    "model = pickle.load(open('Iris_SV_Classfier.pkl', 'rb'))\n",
    "        \n",
    "# \n",
    "@app.route('/predict',methods=['GET','POST'])\n",
    "def predict():\n",
    "    if request.method == 'GET':\n",
    "        return 'please send post request!'\n",
    "    elif request.method == 'POST':\n",
    "        input_paras = request.get_json()\n",
    "        \n",
    "        sepal_length = input_paras['sepal_length']\n",
    "        sepal_width = input_paras['sepal_width']\n",
    "        petal_length = input_paras['petal_length']\n",
    "        petal_width = input_paras['petal_width']\n",
    "        \n",
    "        import numpy as np\n",
    "        input = np.array([[sepal_length, sepal_width, petal_length, petal_width]])\n",
    "        prediction = model.predict(input)\n",
    "        return str(prediction)\n",
    "        "
   ]
  },
  {
   "cell_type": "code",
   "execution_count": 5,
   "metadata": {},
   "outputs": [
    {
     "name": "stdout",
     "output_type": "stream",
     "text": [
      " * Serving Flask app '__main__'\n",
      " * Debug mode: off\n"
     ]
    },
    {
     "name": "stderr",
     "output_type": "stream",
     "text": [
      "WARNING: This is a development server. Do not use it in a production deployment. Use a production WSGI server instead.\n",
      " * Running on http://127.0.0.1:5000\n",
      "Press CTRL+C to quit\n"
     ]
    }
   ],
   "source": [
    "# running flask_app\n",
    "app.run()"
   ]
  },
  {
   "attachments": {},
   "cell_type": "markdown",
   "metadata": {},
   "source": [
    "# http://127.0.0.1:5000/predict"
   ]
  }
 ],
 "metadata": {
  "kernelspec": {
   "display_name": "Python 3",
   "language": "python",
   "name": "python3"
  },
  "language_info": {
   "codemirror_mode": {
    "name": "ipython",
    "version": 3
   },
   "file_extension": ".py",
   "mimetype": "text/x-python",
   "name": "python",
   "nbconvert_exporter": "python",
   "pygments_lexer": "ipython3",
   "version": "3.10.9"
  },
  "orig_nbformat": 4,
  "vscode": {
   "interpreter": {
    "hash": "f2e2420d2af6466ac46d65e7cae12e1763773716a5df9fb9629e3ec3fd0e9e0e"
   }
  }
 },
 "nbformat": 4,
 "nbformat_minor": 2
}

{
 "cells": [
  {
   "cell_type": "code",
   "execution_count": 9,
   "metadata": {},
   "outputs": [
    {
     "name": "stdout",
     "output_type": "stream",
     "text": [
      "(1000, 20) (1000,)\n"
     ]
    }
   ],
   "source": [
    "#generating a sample_dataset for learning purpose\n",
    "from sklearn.datasets import make_classification\n",
    "x,y = make_classification(n_samples=1000,n_features=20,#pta hai.\n",
    "                          n_informative=15,n_redundant=5,#ye kya hai??\n",
    "                          random_state=7)#ye bhi pta hai.\n",
    "print(x.shape,y.shape)"
   ]
  },
  {
   "attachments": {},
   "cell_type": "markdown",
   "metadata": {},
   "source": [
    "# nominclature of diff subsets of dataset\n",
    "# 1) y_test == y_test_actual \n",
    "# 2) y_test_p = y_test_predicted\n",
    "\n",
    "# 1) y_train == y_train_actual \n",
    "# 2) y_train_p = y_train_predicted\n"
   ]
  },
  {
   "cell_type": "code",
   "execution_count": 10,
   "metadata": {},
   "outputs": [],
   "source": [
    "#scaling the x only (ie, independent features, kyoki inko model me daalna hai and y ko nahi)\n",
    "from sklearn.preprocessing import MinMaxScaler\n",
    "scaler = MinMaxScaler()\n",
    "x = scaler.fit_transform(x)"
   ]
  },
  {
   "cell_type": "code",
   "execution_count": 19,
   "metadata": {},
   "outputs": [
    {
     "name": "stdout",
     "output_type": "stream",
     "text": [
      "[[0.66353368 0.42313244 0.35968791 ... 0.45628844 0.46080054 0.66073356]\n",
      " [0.24711376 0.44748852 0.59397114 ... 0.48625    0.40176609 0.63381649]\n",
      " [0.29588609 0.56051868 0.71327116 ... 0.52312398 0.54423786 0.44319873]\n",
      " ...\n",
      " [0.64664942 0.24677998 0.60883541 ... 0.45975289 0.3039091  0.41494384]\n",
      " [0.40547646 0.61748668 0.72368188 ... 0.27974375 0.85277464 0.40227081]\n",
      " [0.45134526 0.36059728 0.26342431 ... 0.31079164 0.63268037 0.4255061 ]] [[0.49299731 0.26777651 0.48827814 ... 0.4203421  0.63582195 0.64482649]\n",
      " [0.17703925 0.40486452 0.55730959 ... 0.22069507 0.43616952 0.61282437]\n",
      " [0.49938083 0.38644094 0.22844973 ... 0.59967128 0.31006598 0.67365068]\n",
      " ...\n",
      " [0.5833299  0.50166033 0.38622849 ... 0.82666291 0.40965118 0.3451892 ]\n",
      " [0.49208254 0.34410676 0.53106965 ... 0.39637    0.47083516 0.65195615]\n",
      " [0.54719085 0.38296955 0.42176886 ... 0.50842807 0.55490065 0.4018216 ]] [1 0 0 0 0 1 0 0 0 0 1 1 1 1 1 0 0 0 1 1 0 1 1 1 0 0 1 0 0 0 1 0 0 1 0 1 0\n",
      " 0 1 1 0 1 1 0 1 1 1 0 0 0 1 0 0 0 1 0 1 1 0 1 0 1 1 1 0 1 0 0 1 1 1 1 0 1\n",
      " 0 1 0 1 0 1 1 0 0 0 1 1 1 0 0 1 1 0 1 1 1 0 1 1 1 1 1 0 0 0 1 1 0 1 0 1 1\n",
      " 0 1 0 1 0 0 0 0 1 0 1 1 1 1 0 1 0 0 1 1 0 0 0 0 1 0 0 0 0 1 0 1 0 1 1 0 0\n",
      " 1 0 1 1 0 1 0 0 1 1 1 0 0 1 1 1 0 0 0 0 0 0 0 1 1 0 1 0 1 1 1 0 1 1 1 0 0\n",
      " 1 1 0 1 0 1 1 0 0 1 1 0 1 1 0 0 1 1 1 0 0 0 1 0 1 0 0 0 1 0 0 0 0 1 0 1 1\n",
      " 1 1 1 0 0 0 1 1 1 1 0 0 0 0 1 0 1 0 1 1 1 1 0 0 1 0 0 0 1 0 0 0 0 0 1 1 1\n",
      " 1 0 0 0 0 1 1 0 1 0 1 1 1 0 1 0 1 0 1 0 0 1 1 0 1 0 0 1 1 1 1 1 0 0 1 1 1\n",
      " 1 1 0 1 1 0 0 0 0 0 0 0 1 0 0 1 1 1 0 0 1 1 1 0 0 0 1 0 1 1 0 1 0 1 0 0 0\n",
      " 1 1 0 0 0 1 1 0 1 0 1 1 0 1 1 0 0 0 0 1 0 0 1 1 1 0 1 1 0 1 0 0 1 0 0 0 1\n",
      " 0 0 1 1 1 0 0 0 1 0 1 1 0 1 1 1 0 0 1 0 1 1 0 1 1 0 1 0 1 1 1 0 1 1 0 0 0\n",
      " 0 0 1 1 1 0 0 0 1 0 1 1 1 1 1 0 0 1 0 0 1 0 0 1 0 1 1 1 0 1 1 1 1 0 1 1 1\n",
      " 1 0 0 1 1 1 1 1 1 0 0 0 0 1 0 0 0 1 1 1 1 1 1 1 0 1 1 1 1 0 0 0 0 0 0 1 0\n",
      " 0 0 1 1 0 1 1 0 1 0 0 0 0 1 1 0 0 0 0 1 0 0 0 0 1 0 1 0 1 0 1 0 0 1 1 0 0\n",
      " 0 0 0 0 0 1 1 1 0 0 1 1 0 0 1 0 0 0 0 0 0 1 1 1 0 1 1 1 0 1 0 0 0 0 1 0 1\n",
      " 0 0 0 1 0 0 1 0 0 1 1 1 1 1 0 0 1 0 1 0 0 1 0 1 1 0 1 0 0 0 0 0 0 1 1 0 0\n",
      " 1 0 1 1 0 1 1 1 0 0 0 1 1 0 1 0 1 1 0 0 0 1 0 1 1 0 1 1 1 1 1 1 0 1 0 1 0\n",
      " 0 0 1 1 1 0 1 1 1 1 0 0 0 1 0 1 1 0 0 0 1 1 1 0 0 0 1 0 0 1 1 0 0 0 1 0 1\n",
      " 0 1 1 1 1 0 0 1 1 0 1 1 0 1 1 0 0 0 0 0 0 0 0 1 0 1 0 0 1 1 0 1 0 0 0 1 1\n",
      " 0 0 1 1 0 1 1 0 0 0 0 0 1 0 1 1 0 1 0 1 1 1 1 0 0 1 0 1 1 1 1 1 0 1 0 1 1\n",
      " 0 1 1 1 1 0 1 0 0 1 0 1 0 1 0 1 0 0 0 1 1 1 1 1 1 1 1 1 1 0 0 0 1 1 0 0 1\n",
      " 0 0 1 1 0 1 1 0 0 0 1 1 1 0 0 0 0 1 1 0 0 0 1] [1 0 1 0 1 1 0 1 1 0 1 0 1 0 0 1 0 1 0 1 1 1 1 0 1 0 0 0 1 0 0 1 0 1 0 1 0\n",
      " 0 1 0 1 1 1 0 1 0 0 1 0 1 0 0 0 1 1 0 1 0 1 0 1 0 1 1 0 0 0 1 1 1 0 1 0 1\n",
      " 0 0 0 0 0 1 1 1 0 0 1 1 1 1 1 1 0 1 0 0 0 1 0 1 0 0 1 0 1 1 0 0 0 0 0 1 1\n",
      " 0 0 1 0 0 1 0 1 1 0 0 0 0 0 0 0 0 0 0 0 1 1 1 0 1 1 1 1 0 0 0 0 0 0 1 1 1\n",
      " 0 0 0 0 0 0 1 1 1 1 0 1 0 0 1 1 1 1 0 1 1 0 1 1 0 0 1 1 0 0 0 1 1 1 1 1 1\n",
      " 0 1 0 1 0 0 1 1 1 1 1 0 1 0 1]\n"
     ]
    }
   ],
   "source": [
    "#splitting data for training and testing separatly\n",
    "from sklearn.model_selection import train_test_split\n",
    "x_train, x_test, ay_train, ay_test = train_test_split(x, y, test_size=0.2, random_state=1)\n",
    "print(x_train, x_test, ay_train, ay_test)"
   ]
  },
  {
   "cell_type": "code",
   "execution_count": 12,
   "metadata": {},
   "outputs": [
    {
     "data": {
      "text/html": [
       "<style>#sk-container-id-2 {color: black;background-color: white;}#sk-container-id-2 pre{padding: 0;}#sk-container-id-2 div.sk-toggleable {background-color: white;}#sk-container-id-2 label.sk-toggleable__label {cursor: pointer;display: block;width: 100%;margin-bottom: 0;padding: 0.3em;box-sizing: border-box;text-align: center;}#sk-container-id-2 label.sk-toggleable__label-arrow:before {content: \"▸\";float: left;margin-right: 0.25em;color: #696969;}#sk-container-id-2 label.sk-toggleable__label-arrow:hover:before {color: black;}#sk-container-id-2 div.sk-estimator:hover label.sk-toggleable__label-arrow:before {color: black;}#sk-container-id-2 div.sk-toggleable__content {max-height: 0;max-width: 0;overflow: hidden;text-align: left;background-color: #f0f8ff;}#sk-container-id-2 div.sk-toggleable__content pre {margin: 0.2em;color: black;border-radius: 0.25em;background-color: #f0f8ff;}#sk-container-id-2 input.sk-toggleable__control:checked~div.sk-toggleable__content {max-height: 200px;max-width: 100%;overflow: auto;}#sk-container-id-2 input.sk-toggleable__control:checked~label.sk-toggleable__label-arrow:before {content: \"▾\";}#sk-container-id-2 div.sk-estimator input.sk-toggleable__control:checked~label.sk-toggleable__label {background-color: #d4ebff;}#sk-container-id-2 div.sk-label input.sk-toggleable__control:checked~label.sk-toggleable__label {background-color: #d4ebff;}#sk-container-id-2 input.sk-hidden--visually {border: 0;clip: rect(1px 1px 1px 1px);clip: rect(1px, 1px, 1px, 1px);height: 1px;margin: -1px;overflow: hidden;padding: 0;position: absolute;width: 1px;}#sk-container-id-2 div.sk-estimator {font-family: monospace;background-color: #f0f8ff;border: 1px dotted black;border-radius: 0.25em;box-sizing: border-box;margin-bottom: 0.5em;}#sk-container-id-2 div.sk-estimator:hover {background-color: #d4ebff;}#sk-container-id-2 div.sk-parallel-item::after {content: \"\";width: 100%;border-bottom: 1px solid gray;flex-grow: 1;}#sk-container-id-2 div.sk-label:hover label.sk-toggleable__label {background-color: #d4ebff;}#sk-container-id-2 div.sk-serial::before {content: \"\";position: absolute;border-left: 1px solid gray;box-sizing: border-box;top: 0;bottom: 0;left: 50%;z-index: 0;}#sk-container-id-2 div.sk-serial {display: flex;flex-direction: column;align-items: center;background-color: white;padding-right: 0.2em;padding-left: 0.2em;position: relative;}#sk-container-id-2 div.sk-item {position: relative;z-index: 1;}#sk-container-id-2 div.sk-parallel {display: flex;align-items: stretch;justify-content: center;background-color: white;position: relative;}#sk-container-id-2 div.sk-item::before, #sk-container-id-2 div.sk-parallel-item::before {content: \"\";position: absolute;border-left: 1px solid gray;box-sizing: border-box;top: 0;bottom: 0;left: 50%;z-index: -1;}#sk-container-id-2 div.sk-parallel-item {display: flex;flex-direction: column;z-index: 1;position: relative;background-color: white;}#sk-container-id-2 div.sk-parallel-item:first-child::after {align-self: flex-end;width: 50%;}#sk-container-id-2 div.sk-parallel-item:last-child::after {align-self: flex-start;width: 50%;}#sk-container-id-2 div.sk-parallel-item:only-child::after {width: 0;}#sk-container-id-2 div.sk-dashed-wrapped {border: 1px dashed gray;margin: 0 0.4em 0.5em 0.4em;box-sizing: border-box;padding-bottom: 0.4em;background-color: white;}#sk-container-id-2 div.sk-label label {font-family: monospace;font-weight: bold;display: inline-block;line-height: 1.2em;}#sk-container-id-2 div.sk-label-container {text-align: center;}#sk-container-id-2 div.sk-container {/* jupyter's `normalize.less` sets `[hidden] { display: none; }` but bootstrap.min.css set `[hidden] { display: none !important; }` so we also need the `!important` here to be able to override the default hidden behavior on the sphinx rendered scikit-learn.org. See: https://github.com/scikit-learn/scikit-learn/issues/21755 */display: inline-block !important;position: relative;}#sk-container-id-2 div.sk-text-repr-fallback {display: none;}</style><div id=\"sk-container-id-2\" class=\"sk-top-container\"><div class=\"sk-text-repr-fallback\"><pre>LogisticRegression()</pre><b>In a Jupyter environment, please rerun this cell to show the HTML representation or trust the notebook. <br />On GitHub, the HTML representation is unable to render, please try loading this page with nbviewer.org.</b></div><div class=\"sk-container\" hidden><div class=\"sk-item\"><div class=\"sk-estimator sk-toggleable\"><input class=\"sk-toggleable__control sk-hidden--visually\" id=\"sk-estimator-id-2\" type=\"checkbox\" checked><label for=\"sk-estimator-id-2\" class=\"sk-toggleable__label sk-toggleable__label-arrow\">LogisticRegression</label><div class=\"sk-toggleable__content\"><pre>LogisticRegression()</pre></div></div></div></div></div>"
      ],
      "text/plain": [
       "LogisticRegression()"
      ]
     },
     "execution_count": 12,
     "metadata": {},
     "output_type": "execute_result"
    }
   ],
   "source": [
    "#training LogReg model with x_train and y_train\n",
    "from sklearn.linear_model import LogisticRegression\n",
    "model = LogisticRegression()\n",
    "model.fit(x_train,ay_train)"
   ]
  },
  {
   "cell_type": "code",
   "execution_count": 17,
   "metadata": {},
   "outputs": [
    {
     "name": "stdout",
     "output_type": "stream",
     "text": [
      "acc_train:  0.85875\n",
      "acc_test:  0.855\n"
     ]
    }
   ],
   "source": [
    "# accuracy check for train and test dataSubsets\n",
    "from sklearn.metrics import accuracy_score\n",
    "py_train = model.predict(x_train)\n",
    "acc_train = accuracy_score(ay_train, py_train) \n",
    "print(\"acc_train: \", acc_train)\n",
    "\n",
    "py_test = model.predict(x_test)\n",
    "acc_test = accuracy_score(ay_test, py_test)\n",
    "print(\"acc_test: \", acc_test)"
   ]
  }
 ],
 "metadata": {
  "kernelspec": {
   "display_name": "Python 3",
   "language": "python",
   "name": "python3"
  },
  "language_info": {
   "codemirror_mode": {
    "name": "ipython",
    "version": 3
   },
   "file_extension": ".py",
   "mimetype": "text/x-python",
   "name": "python",
   "nbconvert_exporter": "python",
   "pygments_lexer": "ipython3",
   "version": "3.10.9"
  },
  "orig_nbformat": 4,
  "vscode": {
   "interpreter": {
    "hash": "f2e2420d2af6466ac46d65e7cae12e1763773716a5df9fb9629e3ec3fd0e9e0e"
   }
  }
 },
 "nbformat": 4,
 "nbformat_minor": 2
}

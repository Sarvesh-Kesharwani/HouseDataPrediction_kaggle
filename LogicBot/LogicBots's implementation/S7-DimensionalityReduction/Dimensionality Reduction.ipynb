{
 "cells": [
  {
   "cell_type": "code",
   "execution_count": 6,
   "metadata": {},
   "outputs": [
    {
     "ename": "NameError",
     "evalue": "name 'LinearDiscriminantAnalysis' is not defined",
     "output_type": "error",
     "traceback": [
      "\u001b[1;31m---------------------------------------------------------------------------\u001b[0m",
      "\u001b[1;31mNameError\u001b[0m                                 Traceback (most recent call last)",
      "Cell \u001b[1;32mIn[6], line 6\u001b[0m\n\u001b[0;32m      4\u001b[0m data \u001b[39m=\u001b[39m \u001b[39m.\u001b[39m\u001b[39m.\u001b[39m\u001b[39m.\u001b[39m\n\u001b[0;32m      5\u001b[0m \u001b[39m# define transform\u001b[39;00m\n\u001b[1;32m----> 6\u001b[0m lda \u001b[39m=\u001b[39m LinearDiscriminantAnalysis()\n\u001b[0;32m      7\u001b[0m \u001b[39m# prepare transform on dataset\u001b[39;00m\n\u001b[0;32m      8\u001b[0m lda\u001b[39m.\u001b[39mfit(data)\n",
      "\u001b[1;31mNameError\u001b[0m: name 'LinearDiscriminantAnalysis' is not defined"
     ]
    }
   ],
   "source": [
    "...\n",
    "# these dots mean the code segement is not executable \n",
    "# prepare dataset\n",
    "data = ...\n",
    "# define transform\n",
    "lda = LinearDiscriminantAnalysis()\n",
    "# prepare transform on dataset\n",
    "lda.fit(data)\n",
    "# apply transform to dataset\n",
    "transformed = lda.transform(data)"
   ]
  },
  {
   "cell_type": "code",
   "execution_count": null,
   "metadata": {},
   "outputs": [
    {
     "ename": "NameError",
     "evalue": "name 'LinearDiscriminantAnalysis' is not defined",
     "output_type": "error",
     "traceback": [
      "\u001b[1;31m---------------------------------------------------------------------------\u001b[0m",
      "\u001b[1;31mNameError\u001b[0m                                 Traceback (most recent call last)",
      "Cell \u001b[1;32mIn[2], line 3\u001b[0m\n\u001b[0;32m      1\u001b[0m \u001b[39m.\u001b[39m\u001b[39m.\u001b[39m\u001b[39m.\u001b[39m\n\u001b[0;32m      2\u001b[0m \u001b[39m# define the pipeline\u001b[39;00m\n\u001b[1;32m----> 3\u001b[0m steps \u001b[39m=\u001b[39m [(\u001b[39m'\u001b[39m\u001b[39mlda\u001b[39m\u001b[39m'\u001b[39m, LinearDiscriminantAnalysis()), (\u001b[39m'\u001b[39m\u001b[39mm\u001b[39m\u001b[39m'\u001b[39m, GaussianNB())]\n\u001b[0;32m      4\u001b[0m model \u001b[39m=\u001b[39m Pipeline(steps\u001b[39m=\u001b[39msteps)\n",
      "\u001b[1;31mNameError\u001b[0m: name 'LinearDiscriminantAnalysis' is not defined"
     ]
    }
   ],
   "source": [
    "...\n",
    "# define the pipeline\n",
    "steps = [('lda', LinearDiscriminantAnalysis()), ('m', GaussianNB())]\n",
    "model = Pipeline(steps=steps)"
   ]
  },
  {
   "cell_type": "code",
   "execution_count": 7,
   "metadata": {},
   "outputs": [
    {
     "ename": "NameError",
     "evalue": "name 'StandardScaler' is not defined",
     "output_type": "error",
     "traceback": [
      "\u001b[1;31m---------------------------------------------------------------------------\u001b[0m",
      "\u001b[1;31mNameError\u001b[0m                                 Traceback (most recent call last)",
      "Cell \u001b[1;32mIn[7], line 3\u001b[0m\n\u001b[0;32m      1\u001b[0m \u001b[39m.\u001b[39m\u001b[39m.\u001b[39m\u001b[39m.\u001b[39m\n\u001b[0;32m      2\u001b[0m \u001b[39m# define the pipeline\u001b[39;00m\n\u001b[1;32m----> 3\u001b[0m steps \u001b[39m=\u001b[39m [(\u001b[39m'\u001b[39m\u001b[39ms\u001b[39m\u001b[39m'\u001b[39m, StandardScaler()), (\u001b[39m'\u001b[39m\u001b[39mlda\u001b[39m\u001b[39m'\u001b[39m, LinearDiscriminantAnalysis()), (\u001b[39m'\u001b[39m\u001b[39mm\u001b[39m\u001b[39m'\u001b[39m,\n\u001b[0;32m      4\u001b[0m GaussianNB())]\n\u001b[0;32m      5\u001b[0m model \u001b[39m=\u001b[39m Pipeline(steps\u001b[39m=\u001b[39msteps)\n",
      "\u001b[1;31mNameError\u001b[0m: name 'StandardScaler' is not defined"
     ]
    }
   ],
   "source": [
    "...\n",
    "# define the pipeline\n",
    "steps = [('s', StandardScaler()), ('lda', LinearDiscriminantAnalysis()), ('m',\n",
    "GaussianNB())]\n",
    "model = Pipeline(steps=steps)"
   ]
  },
  {
   "cell_type": "code",
   "execution_count": null,
   "metadata": {},
   "outputs": [
    {
     "name": "stdout",
     "output_type": "stream",
     "text": [
      "(1000, 20) (1000,)\n"
     ]
    }
   ],
   "source": [
    "# test classification dataset\n",
    "from sklearn.datasets import make_classification\n",
    "# define dataset\n",
    "X, y = make_classification(n_samples=1000, n_features=20, n_informative=15, n_redundant=5,\n",
    "random_state=7, n_classes=10)\n",
    "# summarize the dataset\n",
    "print(X.shape, y.shape)"
   ]
  },
  {
   "cell_type": "code",
   "execution_count": null,
   "metadata": {},
   "outputs": [],
   "source": [
    "..\n",
    "data = ...\n",
    "# define transform\n",
    "pca = PCA()\n",
    "# prepare transform on dataset\n",
    "pca.fit(data)\n",
    "# apply transform to dataset\n",
    "transformed = pca.transform(data)"
   ]
  },
  {
   "cell_type": "code",
   "execution_count": null,
   "metadata": {},
   "outputs": [],
   "source": [
    "...\n",
    "# define the pipeline\n",
    "steps = [('pca', PCA()), ('m', LogisticRegression())]\n",
    "model = Pipeline(steps=steps)"
   ]
  },
  {
   "cell_type": "code",
   "execution_count": null,
   "metadata": {},
   "outputs": [],
   "source": [
    "...\n",
    "# define the pipeline\n",
    "steps = [('norm', MinMaxScaler()), ('pca', PCA()), ('m', LogisticRegression())]\n",
    "model = Pipeline(steps=steps)"
   ]
  },
  {
   "cell_type": "code",
   "execution_count": null,
   "metadata": {},
   "outputs": [
    {
     "name": "stdout",
     "output_type": "stream",
     "text": [
      "(1000, 20) (1000,)\n"
     ]
    }
   ],
   "source": [
    "# test classification dataset\n",
    "from sklearn.datasets import make_classification\n",
    "# define dataset\n",
    "X, y = make_classification(n_samples=1000, n_features=20, n_informative=15, n_redundant=5, random_state=7)\n",
    "# summarize the dataset\n",
    "print(X.shape, y.shape)"
   ]
  }
 ],
 "metadata": {
  "kernelspec": {
   "display_name": "Python 3",
   "language": "python",
   "name": "python3"
  },
  "language_info": {
   "codemirror_mode": {
    "name": "ipython",
    "version": 3
   },
   "file_extension": ".py",
   "mimetype": "text/x-python",
   "name": "python",
   "nbconvert_exporter": "python",
   "pygments_lexer": "ipython3",
   "version": "3.10.9"
  },
  "vscode": {
   "interpreter": {
    "hash": "f2e2420d2af6466ac46d65e7cae12e1763773716a5df9fb9629e3ec3fd0e9e0e"
   }
  }
 },
 "nbformat": 4,
 "nbformat_minor": 2
}
